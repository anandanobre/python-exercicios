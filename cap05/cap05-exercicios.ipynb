{
 "cells": [
  {
   "cell_type": "markdown",
   "metadata": {},
   "source": [
    "## Exercícios - Cap05"
   ]
  },
  {
   "cell_type": "code",
   "execution_count": 49,
   "metadata": {},
   "outputs": [],
   "source": [
    "# Exercício 1 - Crie um objeto a partir da classe abaixo, chamado roc1, passando 2 parâmetros e depois faça uma chamada\n",
    "# aos atributos e métodos\n",
    "from math import sqrt\n",
    "\n",
    "class Rocket():\n",
    "     \n",
    "    def __init__(self, x=0, y=0):\n",
    "        self.x = x\n",
    "        self.y = y\n",
    "        \n",
    "    def move_rocket(self, x_increment=0, y_increment=1):\n",
    "        self.x += x_increment\n",
    "        self.y += y_increment\n",
    "        \n",
    "    def print_rocket(self):\n",
    "        print(self.x, self.y)\n",
    "        "
   ]
  },
  {
   "cell_type": "code",
   "execution_count": 50,
   "metadata": {},
   "outputs": [
    {
     "name": "stdout",
     "output_type": "stream",
     "text": [
      "2 5\n",
      "3 7\n",
      "3\n",
      "7\n"
     ]
    }
   ],
   "source": [
    "roc1 = Rocket(2, 5)\n",
    "roc1.print_rocket()\n",
    "\n",
    "roc1.move_rocket(1, 2)\n",
    "roc1.print_rocket()\n",
    "\n",
    "print(roc1.x)\n",
    "print(roc1.y)"
   ]
  },
  {
   "cell_type": "code",
   "execution_count": 58,
   "metadata": {},
   "outputs": [],
   "source": [
    "# Exercício 2 - Crie uma classe chamada Pessoa() com os atributos: nome, cidade, telefone e e-mail. Use pelo menos 2\n",
    "# métodos especiais na sua classe. Crie um objeto da sua classe e faça uma chamada a pelo menos um dos seus métodos\n",
    "# especiais.\n",
    "\n",
    "class Pessoas():\n",
    "    def __init__(self, nome, cidade, tel, email):\n",
    "        self.nome = nome\n",
    "        self.cidade = cidade\n",
    "        self.tel = tel\n",
    "        self.email = email\n",
    "        \n",
    "    def __str__(self):\n",
    "        return self.nome + \" pode ser contatad através do:\\nNúmero telefonico: \" + str(self.tel) + \"\\nE-mail: \" + self.email"
   ]
  },
  {
   "cell_type": "code",
   "execution_count": 67,
   "metadata": {},
   "outputs": [
    {
     "name": "stdout",
     "output_type": "stream",
     "text": [
      "Maria pode ser contatad através do:\n",
      "Número telefonico: 999567890\n",
      "E-mail: mariazinha@gmail.com\n",
      "\n",
      "\n",
      "Maria\n",
      "Fortaleza\n",
      "mariazinha@gmail.com\n",
      "999567890\n"
     ]
    }
   ],
   "source": [
    "pessoa1 = Pessoas(\"Maria\", \"Fortaleza\", 999567890, \"mariazinha@gmail.com\")\n",
    "print(pessoa1)\n",
    "print(\"\\n\")\n",
    "print(pessoa1.nome)\n",
    "print(pessoa1.cidade)\n",
    "print(pessoa1.email)\n",
    "print(pessoa1.tel)"
   ]
  },
  {
   "cell_type": "code",
   "execution_count": 43,
   "metadata": {},
   "outputs": [],
   "source": [
    "# Exercício 3 - Crie a classe Smartphone com 2 atributos, tamanho e interface e crie a classe MP3Player com os \n",
    "# atributos capacidade. A classe MP3player deve herdar os atributos da classe Smartphone.\n",
    "\n",
    "class Smartphone():\n",
    "    def __init__(self, interface, tamanho):\n",
    "        self.interface = interface\n",
    "        self.tamanho = tamanho\n",
    "    \n",
    "\n",
    "class MP3player(Smartphone):\n",
    "    def __init__(self, capacidade, interface = \"Adaptativa\" , tamanho = \"medio\"):\n",
    "        Smartphone.__init__(self, interface, tamanho)\n",
    "        self.capacidade = capacidade\n",
    "    \n",
    "    def printMp3(self):\n",
    "        print(\"O aparelho possui capacidade de: \" + str(self.capacidade) + \"GB\")"
   ]
  },
  {
   "cell_type": "code",
   "execution_count": 48,
   "metadata": {},
   "outputs": [
    {
     "name": "stdout",
     "output_type": "stream",
     "text": [
      "O aparelho possui capacidade de: 4GB\n",
      "Adaptativa\n",
      "medio\n"
     ]
    }
   ],
   "source": [
    "aparelho1 = MP3player(4)\n",
    "aparelho1.printMp3()\n",
    "\n",
    "print(aparelho1.interface)\n",
    "print(aparelho1.tamanho)"
   ]
  },
  {
   "cell_type": "markdown",
   "metadata": {},
   "source": [
    "### FIM"
   ]
  }
 ],
 "metadata": {
  "kernelspec": {
   "display_name": "Python 3",
   "language": "python",
   "name": "python3"
  },
  "language_info": {
   "codemirror_mode": {
    "name": "ipython",
    "version": 3
   },
   "file_extension": ".py",
   "mimetype": "text/x-python",
   "name": "python",
   "nbconvert_exporter": "python",
   "pygments_lexer": "ipython3",
   "version": "3.7.6"
  }
 },
 "nbformat": 4,
 "nbformat_minor": 1
}
